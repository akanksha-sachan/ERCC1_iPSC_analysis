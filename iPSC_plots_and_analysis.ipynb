{
 "cells": [
  {
   "cell_type": "code",
   "execution_count": 2,
   "metadata": {},
   "outputs": [],
   "source": [
    "import matplotlib.pyplot as plt\n",
    "import matplotlib as mpl\n",
    "import numpy as np\n",
    "import pandas as pd\n",
    "import seaborn as sns"
   ]
  },
  {
   "cell_type": "markdown",
   "metadata": {},
   "source": [
    "## bulkRNA ERCC1 KO in human iPSC cells (with controls - WT cultured cells)\n",
    "### Data has triplicates (3 samples) for three time points (0, W2, W4)"
   ]
  },
  {
   "cell_type": "code",
   "execution_count": 3,
   "metadata": {},
   "outputs": [],
   "source": [
    "# open csvs\n",
    "df_K0W0 = pd.read_csv('/Users/Akanksha/JugnuLab/data_analysis/datasets/bulk_RNA_iPSC/K0W0_DEG.csv')\n",
    "df_K2W2 = pd.read_csv('/Users/Akanksha/JugnuLab/data_analysis/datasets/bulk_RNA_iPSC/K2W2_DEG.csv')\n",
    "df_K4W4 = pd.read_csv('/Users/Akanksha/JugnuLab/data_analysis/datasets/bulk_RNA_iPSC/K4W4_DEG.csv')"
   ]
  },
  {
   "cell_type": "code",
   "execution_count": 4,
   "metadata": {},
   "outputs": [],
   "source": [
    "# Function to convert column to numeric, coerce errors to NaN\n",
    "def convert_to_numeric(df, column):\n",
    "    df[column] = pd.to_numeric(df[column], errors='coerce')\n",
    "    return df\n",
    "\n",
    "# Convert 'Adjustedpvalue' column to numeric\n",
    "df_K0W0 = convert_to_numeric(df_K0W0, 'AdjustedPvalue')\n",
    "df_K2W2 = convert_to_numeric(df_K2W2, 'AdjustedPvalue')\n",
    "df_K4W4 = convert_to_numeric(df_K4W4, 'AdjustedPvalue')\n",
    "\n",
    "# Sort the DataFrames by 'Adjustedpvalue'\n",
    "df_K0W0 = df_K0W0.sort_values(by='AdjustedPvalue')\n",
    "df_K2W2 = df_K2W2.sort_values(by='AdjustedPvalue')\n",
    "df_K4W4 = df_K4W4.sort_values(by='AdjustedPvalue')\n"
   ]
  },
  {
   "cell_type": "code",
   "execution_count": 5,
   "metadata": {},
   "outputs": [
    {
     "data": {
      "text/html": [
       "<div>\n",
       "<style scoped>\n",
       "    .dataframe tbody tr th:only-of-type {\n",
       "        vertical-align: middle;\n",
       "    }\n",
       "\n",
       "    .dataframe tbody tr th {\n",
       "        vertical-align: top;\n",
       "    }\n",
       "\n",
       "    .dataframe thead th {\n",
       "        text-align: right;\n",
       "    }\n",
       "</style>\n",
       "<table border=\"1\" class=\"dataframe\">\n",
       "  <thead>\n",
       "    <tr style=\"text-align: right;\">\n",
       "      <th></th>\n",
       "      <th>Unnamed: 0</th>\n",
       "      <th>logFC</th>\n",
       "      <th>logCPM</th>\n",
       "      <th>F</th>\n",
       "      <th>PValue</th>\n",
       "      <th>AdjustedPvalue</th>\n",
       "      <th>gene_ID</th>\n",
       "    </tr>\n",
       "  </thead>\n",
       "  <tbody>\n",
       "    <tr>\n",
       "      <th>6175</th>\n",
       "      <td>ENSG00000129824.16</td>\n",
       "      <td>-8.138272</td>\n",
       "      <td>7.214968</td>\n",
       "      <td>2687.058138</td>\n",
       "      <td>5.340980e-59</td>\n",
       "      <td>3.351411e-54</td>\n",
       "      <td>RPS4Y1</td>\n",
       "    </tr>\n",
       "    <tr>\n",
       "      <th>15977</th>\n",
       "      <td>ENSG00000185559.16</td>\n",
       "      <td>-2.798630</td>\n",
       "      <td>10.178677</td>\n",
       "      <td>1056.410105</td>\n",
       "      <td>5.660706e-45</td>\n",
       "      <td>1.776018e-40</td>\n",
       "      <td>DLK1</td>\n",
       "    </tr>\n",
       "    <tr>\n",
       "      <th>1121</th>\n",
       "      <td>ENSG00000070669.17</td>\n",
       "      <td>-3.688568</td>\n",
       "      <td>6.797319</td>\n",
       "      <td>960.864145</td>\n",
       "      <td>1.402509e-43</td>\n",
       "      <td>2.933535e-39</td>\n",
       "      <td>ASNS</td>\n",
       "    </tr>\n",
       "    <tr>\n",
       "      <th>6311</th>\n",
       "      <td>ENSG00000130707.18</td>\n",
       "      <td>-2.829201</td>\n",
       "      <td>7.429809</td>\n",
       "      <td>929.159630</td>\n",
       "      <td>4.346299e-43</td>\n",
       "      <td>6.818148e-39</td>\n",
       "      <td>ASS1</td>\n",
       "    </tr>\n",
       "    <tr>\n",
       "      <th>6998</th>\n",
       "      <td>ENSG00000135069.14</td>\n",
       "      <td>-2.878677</td>\n",
       "      <td>7.237614</td>\n",
       "      <td>903.197995</td>\n",
       "      <td>1.127485e-42</td>\n",
       "      <td>1.414971e-38</td>\n",
       "      <td>PSAT1</td>\n",
       "    </tr>\n",
       "    <tr>\n",
       "      <th>...</th>\n",
       "      <td>...</td>\n",
       "      <td>...</td>\n",
       "      <td>...</td>\n",
       "      <td>...</td>\n",
       "      <td>...</td>\n",
       "      <td>...</td>\n",
       "      <td>...</td>\n",
       "    </tr>\n",
       "    <tr>\n",
       "      <th>8464</th>\n",
       "      <td>ENSG00000143839.15</td>\n",
       "      <td>1.985189</td>\n",
       "      <td>-0.220820</td>\n",
       "      <td>38.701919</td>\n",
       "      <td>2.945566e-08</td>\n",
       "      <td>1.855736e-06</td>\n",
       "      <td>REN</td>\n",
       "    </tr>\n",
       "    <tr>\n",
       "      <th>15759</th>\n",
       "      <td>ENSG00000184661.14</td>\n",
       "      <td>1.084291</td>\n",
       "      <td>2.676645</td>\n",
       "      <td>38.588353</td>\n",
       "      <td>2.957309e-08</td>\n",
       "      <td>1.861266e-06</td>\n",
       "      <td>CDCA2</td>\n",
       "    </tr>\n",
       "    <tr>\n",
       "      <th>12330</th>\n",
       "      <td>ENSG00000168374.11</td>\n",
       "      <td>-0.454927</td>\n",
       "      <td>8.377573</td>\n",
       "      <td>38.552130</td>\n",
       "      <td>2.992990e-08</td>\n",
       "      <td>1.881835e-06</td>\n",
       "      <td>ARF4</td>\n",
       "    </tr>\n",
       "    <tr>\n",
       "      <th>5892</th>\n",
       "      <td>ENSG00000127241.18</td>\n",
       "      <td>0.691548</td>\n",
       "      <td>5.042793</td>\n",
       "      <td>38.481323</td>\n",
       "      <td>3.064737e-08</td>\n",
       "      <td>1.925017e-06</td>\n",
       "      <td>MASP1</td>\n",
       "    </tr>\n",
       "    <tr>\n",
       "      <th>7910</th>\n",
       "      <td>ENSG00000140092.16</td>\n",
       "      <td>-0.511722</td>\n",
       "      <td>7.122041</td>\n",
       "      <td>38.476311</td>\n",
       "      <td>3.069859e-08</td>\n",
       "      <td>1.926306e-06</td>\n",
       "      <td>FBLN5</td>\n",
       "    </tr>\n",
       "  </tbody>\n",
       "</table>\n",
       "<p>1000 rows × 7 columns</p>\n",
       "</div>"
      ],
      "text/plain": [
       "               Unnamed: 0     logFC     logCPM            F        PValue  \\\n",
       "6175   ENSG00000129824.16 -8.138272   7.214968  2687.058138  5.340980e-59   \n",
       "15977  ENSG00000185559.16 -2.798630  10.178677  1056.410105  5.660706e-45   \n",
       "1121   ENSG00000070669.17 -3.688568   6.797319   960.864145  1.402509e-43   \n",
       "6311   ENSG00000130707.18 -2.829201   7.429809   929.159630  4.346299e-43   \n",
       "6998   ENSG00000135069.14 -2.878677   7.237614   903.197995  1.127485e-42   \n",
       "...                   ...       ...        ...          ...           ...   \n",
       "8464   ENSG00000143839.15  1.985189  -0.220820    38.701919  2.945566e-08   \n",
       "15759  ENSG00000184661.14  1.084291   2.676645    38.588353  2.957309e-08   \n",
       "12330  ENSG00000168374.11 -0.454927   8.377573    38.552130  2.992990e-08   \n",
       "5892   ENSG00000127241.18  0.691548   5.042793    38.481323  3.064737e-08   \n",
       "7910   ENSG00000140092.16 -0.511722   7.122041    38.476311  3.069859e-08   \n",
       "\n",
       "       AdjustedPvalue gene_ID  \n",
       "6175     3.351411e-54  RPS4Y1  \n",
       "15977    1.776018e-40    DLK1  \n",
       "1121     2.933535e-39    ASNS  \n",
       "6311     6.818148e-39    ASS1  \n",
       "6998     1.414971e-38   PSAT1  \n",
       "...               ...     ...  \n",
       "8464     1.855736e-06     REN  \n",
       "15759    1.861266e-06   CDCA2  \n",
       "12330    1.881835e-06    ARF4  \n",
       "5892     1.925017e-06   MASP1  \n",
       "7910     1.926306e-06   FBLN5  \n",
       "\n",
       "[1000 rows x 7 columns]"
      ]
     },
     "execution_count": 5,
     "metadata": {},
     "output_type": "execute_result"
    }
   ],
   "source": [
    "df_K0W0.head(1000) # -ve adjusted p-values, adjusted p-values get lower than p-values, column name was different from K0W0 and K4W4, column has some strings."
   ]
  },
  {
   "cell_type": "markdown",
   "metadata": {},
   "source": [
    "# Plotting heatmaps for pathways of interest"
   ]
  },
  {
   "cell_type": "code",
   "execution_count": 28,
   "metadata": {},
   "outputs": [],
   "source": [
    "# open specific sheets in the priority gene lists file\n",
    "df_FAO = pd.read_excel('/Users/Akanksha/JugnuLab/data_analysis/datasets/bulk_RNA_iPSC/Heatmap_priority_genes.xlsx', sheet_name='FAO & Krebs cycle')\n",
    "df_glycolysis = pd.read_excel('/Users/Akanksha/JugnuLab/data_analysis/datasets/bulk_RNA_iPSC/Heatmap_priority_genes.xlsx', sheet_name='Glycolysis')\n",
    "df_cellcycle = pd.read_excel('/Users/Akanksha/JugnuLab/data_analysis/datasets/bulk_RNA_iPSC/Heatmap_priority_genes.xlsx', sheet_name='Cell cycle')\n",
    "df_maturation = pd.read_excel('/Users/Akanksha/JugnuLab/data_analysis/datasets/bulk_RNA_iPSC/Heatmap_priority_genes.xlsx', sheet_name='Maturation')"
   ]
  },
  {
   "cell_type": "code",
   "execution_count": 32,
   "metadata": {},
   "outputs": [
    {
     "name": "stdout",
     "output_type": "stream",
     "text": [
      "['ACADM', 'ACADVL', 'CPT1A', 'CPT1B', 'CD36', 'FABP3', 'ECH1', 'ACO2', 'LDHA', 'OGDH', 'SDHA', 'SDHB', 'SDHC', 'SDHD', 'MDH1', 'MDH2', 'FHP1', 'CS', 'ACADSB']\n",
      "['HK1', 'HK2', 'PFKM', 'ALDOC', 'GAPDH', 'ENO2', 'SLC2A1', 'SLC2A4', 'PGM1', 'PGK1']\n",
      "['CCNA2', 'CCNB1', 'CCNB2', 'CCND1', 'CCND2', 'CCNE1', 'CCNE2', 'CDK1', 'CDK4', 'CDK6', 'MCM2', 'CCND3', 'CDK2', 'CSNK2A1']\n",
      "['MYH7', 'MYH6', 'TNNT2', 'TNNI3', 'TPM1', 'ACTC1', 'MYL2', 'MYL3', 'MYL7', 'MYL4', 'MYLK2', 'NPPA', 'NPPB', 'PLN', 'RYR2', 'KCNH2', 'SCN5A', 'KCNQ1', 'ATP2A2']\n"
     ]
    }
   ],
   "source": [
    "# extract the gene names from the priority gene lists and store as list of strings\n",
    "FAO_genes = df_FAO['Genes'].tolist()\n",
    "glycolysis_genes = df_glycolysis['Genes'].tolist()\n",
    "cellcycle_genes = df_cellcycle['Genes'].tolist()\n",
    "maturation_genes = df_maturation['Genes'].tolist()\n",
    "\n",
    "# convert the gene names to uppercase and remove any trailing whitespaces\n",
    "FAO_genes = [gene.upper().strip() for gene in FAO_genes]\n",
    "glycolysis_genes = [gene.upper().strip() for gene in glycolysis_genes]\n",
    "cellcycle_genes = [gene.upper().strip() for gene in cellcycle_genes]\n",
    "maturation_genes = [gene.upper().strip() for gene in maturation_genes]\n",
    "\n",
    "# replace with updated names \n",
    "FAO_genes = ['ACADM', 'ACADVL', 'CPT1A', 'CPT1B', 'CD36', 'FABP3', 'ECH1', 'ACO2', 'LDHA', 'OGDH', 'SDHA', 'SDHB', 'SDHC', 'SDHD', 'MDH1', 'MDH2', 'FHP1', 'CS', 'ACADSB']\n",
    "glycolysis_genes = ['HK1', 'HK2', 'PFKM', 'ALDOC', 'GAPDH', 'ENO2', 'SLC2A1', 'SLC2A4', 'PGM1', 'PGK1']\n",
    "cellcycle_genes = ['CCNA2', 'CCNB1', 'CCNB2', 'CCND1', 'CCND2', 'CCNE1', 'CCNE2', 'CDK1', 'CDK4', 'CDK6', 'MCM2', 'CCND3', 'CDK2', 'CSNK2A1']\n",
    "maturation_genes = ['MYH7', 'MYH6', 'TNNT2', 'TNNI3', 'TPM1', 'ACTC1', 'MYL2', 'MYL3', 'MYL7', 'MYL4', 'MYLK2', 'NPPA', 'NPPB', 'PLN', 'RYR2', 'KCNH2', 'SCN5A', 'KCNQ1', 'ATP2A2']\n",
    "\n",
    "print(FAO_genes); print(glycolysis_genes); print(cellcycle_genes); print(maturation_genes)"
   ]
  },
  {
   "cell_type": "markdown",
   "metadata": {},
   "source": [
    "#### FAO genes search in DEGs"
   ]
  },
  {
   "cell_type": "code",
   "execution_count": 33,
   "metadata": {},
   "outputs": [
    {
     "name": "stdout",
     "output_type": "stream",
     "text": [
      "19 19\n",
      "19 19\n",
      "19 19\n",
      "[]\n"
     ]
    }
   ],
   "source": [
    "# search for FAO genes in the K0W0, K2W2 and K4W4 dataframes\n",
    "FAO_K0W0 = df_K0W0[df_K0W0['gene_ID'].isin(FAO_genes)]\n",
    "FAO_K2W2 = df_K2W2[df_K2W2['gene_ID'].isin(FAO_genes)]\n",
    "FAO_K4W4 = df_K4W4[df_K4W4['gene_ID'].isin(FAO_genes)]\n",
    "# print the number of genes found in the K0W0 dataframe\n",
    "print(len(FAO_genes), len(FAO_K0W0))\n",
    "print(len(FAO_genes), len(FAO_K2W2))\n",
    "print(len(FAO_genes), len(FAO_K4W4))\n",
    "# store the genes not found in a list\n",
    "FAO_K0W0_notfound = [gene for gene in FAO_genes if gene not in FAO_K0W0['gene_ID'].tolist()]\n",
    "print(FAO_K0W0_notfound)"
   ]
  },
  {
   "cell_type": "markdown",
   "metadata": {},
   "source": [
    "#### Glycolysis genes search in DEGs"
   ]
  },
  {
   "cell_type": "code",
   "execution_count": 34,
   "metadata": {},
   "outputs": [
    {
     "name": "stdout",
     "output_type": "stream",
     "text": [
      "10 10\n",
      "10 10\n",
      "10 10\n",
      "[]\n"
     ]
    }
   ],
   "source": [
    "# search for glycolysis genes in the K0W0, K2W2 and K4W4 dataframes\n",
    "glycolysis_K0W0 = df_K0W0[df_K0W0['gene_ID'].isin(glycolysis_genes)]\n",
    "glycolysis_K2W2 = df_K2W2[df_K2W2['gene_ID'].isin(glycolysis_genes)]\n",
    "glycolysis_K4W4 = df_K4W4[df_K4W4['gene_ID'].isin(glycolysis_genes)]\n",
    "# print the number of genes found in the K0W0 dataframe\n",
    "print(len(glycolysis_genes), len(glycolysis_K0W0))\n",
    "print(len(glycolysis_genes), len(glycolysis_K2W2))\n",
    "print(len(glycolysis_genes), len(glycolysis_K4W4))\n",
    "# store the genes not found in a list\n",
    "glycolysis_K0W0_notfound = [gene for gene in glycolysis_genes if gene not in glycolysis_K0W0['gene_ID'].tolist()]\n",
    "print(glycolysis_K0W0_notfound)\n",
    "\n",
    "# ADD PGK1 to glycolysis_K0W0, glycolysis_K2W2, glycolysis_K4W4\n",
    "pgk1_K0W0 = []\n",
    "pgk1_K2W2 = []\n",
    "pgk1_K4W4 = []"
   ]
  },
  {
   "cell_type": "markdown",
   "metadata": {},
   "source": [
    "#### Cell-cycle genes search in DEGs"
   ]
  },
  {
   "cell_type": "code",
   "execution_count": 35,
   "metadata": {},
   "outputs": [
    {
     "name": "stdout",
     "output_type": "stream",
     "text": [
      "14 14\n",
      "14 14\n",
      "14 14\n",
      "[]\n"
     ]
    }
   ],
   "source": [
    "# search for cellcycle genes in the K0W0, K2W2 and K4W4 dataframes\n",
    "cellcycle_K0W0 = df_K0W0[df_K0W0['gene_ID'].isin(cellcycle_genes)]\n",
    "cellcycle_K2W2 = df_K2W2[df_K2W2['gene_ID'].isin(cellcycle_genes)]\n",
    "cellcycle_K4W4 = df_K4W4[df_K4W4['gene_ID'].isin(cellcycle_genes)]\n",
    "# print the number of genes found in the K0W0 dataframe\n",
    "print(len(cellcycle_genes), len(cellcycle_K0W0))\n",
    "print(len(cellcycle_genes), len(cellcycle_K2W2))\n",
    "print(len(cellcycle_genes), len(cellcycle_K4W4))\n",
    "# store the genes not found in a list\n",
    "cellcycle_K0W0_notfound = [gene for gene in cellcycle_genes if gene not in cellcycle_K0W0['gene_ID'].tolist()]\n",
    "print(cellcycle_K0W0_notfound)"
   ]
  },
  {
   "cell_type": "markdown",
   "metadata": {},
   "source": [
    "#### Maturation genes search in DEGs"
   ]
  },
  {
   "cell_type": "code",
   "execution_count": 36,
   "metadata": {},
   "outputs": [
    {
     "name": "stdout",
     "output_type": "stream",
     "text": [
      "19 19\n",
      "19 19\n",
      "19 19\n",
      "[]\n"
     ]
    }
   ],
   "source": [
    "# search for maturation genes in the K0W0, K2W2 and K4W4 dataframes\n",
    "maturation_K0W0 = df_K0W0[df_K0W0['gene_ID'].isin(maturation_genes)]\n",
    "maturation_K2W2 = df_K2W2[df_K2W2['gene_ID'].isin(maturation_genes)]\n",
    "maturation_K4W4 = df_K4W4[df_K4W4['gene_ID'].isin(maturation_genes)]\n",
    "# print the number of genes found in the K0W0 dataframe\n",
    "print(len(maturation_genes), len(maturation_K0W0))\n",
    "print(len(maturation_genes), len(maturation_K2W2))\n",
    "print(len(maturation_genes), len(maturation_K4W4))\n",
    "# store the genes not found in a list\n",
    "maturation_K0W0_notfound = [gene for gene in maturation_genes if gene not in maturation_K0W0['gene_ID'].tolist()]\n",
    "print(maturation_K0W0_notfound)"
   ]
  },
  {
   "cell_type": "markdown",
   "metadata": {},
   "source": [
    "#### Plot longitudinal heatmaps"
   ]
  },
  {
   "cell_type": "code",
   "execution_count": 39,
   "metadata": {},
   "outputs": [],
   "source": [
    "# Function to prepare the data with upregulated and downregulated columns\n",
    "def prepare_data(df, timepoint):\n",
    "    df['upregulated'] = df['logFC'].apply(lambda x: x if x > 0 else 0)\n",
    "    df['downregulated'] = df['logFC'].apply(lambda x: x if x < 0 else 0)\n",
    "    df['upregulated_pvalue'] = df.apply(lambda row: row['AdjustedPvalue'] if row['logFC'] > 0 else np.nan, axis=1)\n",
    "    df['downregulated_pvalue'] = df.apply(lambda row: row['AdjustedPvalue'] if row['logFC'] < 0 else np.nan, axis=1)\n",
    "    df_up = df[['gene_ID', 'upregulated', 'upregulated_pvalue']].rename(columns={'upregulated': f'{timepoint}_up', 'upregulated_pvalue': f'{timepoint}_up_pvalue'})\n",
    "    df_down = df[['gene_ID', 'downregulated', 'downregulated_pvalue']].rename(columns={'downregulated': f'{timepoint}_down', 'downregulated_pvalue': f'{timepoint}_down_pvalue'})\n",
    "    return df_up, df_down"
   ]
  },
  {
   "cell_type": "code",
   "execution_count": 46,
   "metadata": {},
   "outputs": [
    {
     "name": "stderr",
     "output_type": "stream",
     "text": [
      "/var/folders/tb/s68l7gcj6rg4952d2x7x3jd80000gn/T/ipykernel_32546/1514959679.py:3: SettingWithCopyWarning: \n",
      "A value is trying to be set on a copy of a slice from a DataFrame.\n",
      "Try using .loc[row_indexer,col_indexer] = value instead\n",
      "\n",
      "See the caveats in the documentation: https://pandas.pydata.org/pandas-docs/stable/user_guide/indexing.html#returning-a-view-versus-a-copy\n",
      "  df['upregulated'] = df['logFC'].apply(lambda x: x if x > 0 else 0)\n",
      "/var/folders/tb/s68l7gcj6rg4952d2x7x3jd80000gn/T/ipykernel_32546/1514959679.py:4: SettingWithCopyWarning: \n",
      "A value is trying to be set on a copy of a slice from a DataFrame.\n",
      "Try using .loc[row_indexer,col_indexer] = value instead\n",
      "\n",
      "See the caveats in the documentation: https://pandas.pydata.org/pandas-docs/stable/user_guide/indexing.html#returning-a-view-versus-a-copy\n",
      "  df['downregulated'] = df['logFC'].apply(lambda x: x if x < 0 else 0)\n",
      "/var/folders/tb/s68l7gcj6rg4952d2x7x3jd80000gn/T/ipykernel_32546/1514959679.py:5: SettingWithCopyWarning: \n",
      "A value is trying to be set on a copy of a slice from a DataFrame.\n",
      "Try using .loc[row_indexer,col_indexer] = value instead\n",
      "\n",
      "See the caveats in the documentation: https://pandas.pydata.org/pandas-docs/stable/user_guide/indexing.html#returning-a-view-versus-a-copy\n",
      "  df['upregulated_pvalue'] = df.apply(lambda row: row['AdjustedPvalue'] if row['logFC'] > 0 else np.nan, axis=1)\n",
      "/var/folders/tb/s68l7gcj6rg4952d2x7x3jd80000gn/T/ipykernel_32546/1514959679.py:6: SettingWithCopyWarning: \n",
      "A value is trying to be set on a copy of a slice from a DataFrame.\n",
      "Try using .loc[row_indexer,col_indexer] = value instead\n",
      "\n",
      "See the caveats in the documentation: https://pandas.pydata.org/pandas-docs/stable/user_guide/indexing.html#returning-a-view-versus-a-copy\n",
      "  df['downregulated_pvalue'] = df.apply(lambda row: row['AdjustedPvalue'] if row['logFC'] < 0 else np.nan, axis=1)\n",
      "/var/folders/tb/s68l7gcj6rg4952d2x7x3jd80000gn/T/ipykernel_32546/1514959679.py:3: SettingWithCopyWarning: \n",
      "A value is trying to be set on a copy of a slice from a DataFrame.\n",
      "Try using .loc[row_indexer,col_indexer] = value instead\n",
      "\n",
      "See the caveats in the documentation: https://pandas.pydata.org/pandas-docs/stable/user_guide/indexing.html#returning-a-view-versus-a-copy\n",
      "  df['upregulated'] = df['logFC'].apply(lambda x: x if x > 0 else 0)\n",
      "/var/folders/tb/s68l7gcj6rg4952d2x7x3jd80000gn/T/ipykernel_32546/1514959679.py:4: SettingWithCopyWarning: \n",
      "A value is trying to be set on a copy of a slice from a DataFrame.\n",
      "Try using .loc[row_indexer,col_indexer] = value instead\n",
      "\n",
      "See the caveats in the documentation: https://pandas.pydata.org/pandas-docs/stable/user_guide/indexing.html#returning-a-view-versus-a-copy\n",
      "  df['downregulated'] = df['logFC'].apply(lambda x: x if x < 0 else 0)\n",
      "/var/folders/tb/s68l7gcj6rg4952d2x7x3jd80000gn/T/ipykernel_32546/1514959679.py:5: SettingWithCopyWarning: \n",
      "A value is trying to be set on a copy of a slice from a DataFrame.\n",
      "Try using .loc[row_indexer,col_indexer] = value instead\n",
      "\n",
      "See the caveats in the documentation: https://pandas.pydata.org/pandas-docs/stable/user_guide/indexing.html#returning-a-view-versus-a-copy\n",
      "  df['upregulated_pvalue'] = df.apply(lambda row: row['AdjustedPvalue'] if row['logFC'] > 0 else np.nan, axis=1)\n",
      "/var/folders/tb/s68l7gcj6rg4952d2x7x3jd80000gn/T/ipykernel_32546/1514959679.py:6: SettingWithCopyWarning: \n",
      "A value is trying to be set on a copy of a slice from a DataFrame.\n",
      "Try using .loc[row_indexer,col_indexer] = value instead\n",
      "\n",
      "See the caveats in the documentation: https://pandas.pydata.org/pandas-docs/stable/user_guide/indexing.html#returning-a-view-versus-a-copy\n",
      "  df['downregulated_pvalue'] = df.apply(lambda row: row['AdjustedPvalue'] if row['logFC'] < 0 else np.nan, axis=1)\n",
      "/var/folders/tb/s68l7gcj6rg4952d2x7x3jd80000gn/T/ipykernel_32546/1514959679.py:3: SettingWithCopyWarning: \n",
      "A value is trying to be set on a copy of a slice from a DataFrame.\n",
      "Try using .loc[row_indexer,col_indexer] = value instead\n",
      "\n",
      "See the caveats in the documentation: https://pandas.pydata.org/pandas-docs/stable/user_guide/indexing.html#returning-a-view-versus-a-copy\n",
      "  df['upregulated'] = df['logFC'].apply(lambda x: x if x > 0 else 0)\n",
      "/var/folders/tb/s68l7gcj6rg4952d2x7x3jd80000gn/T/ipykernel_32546/1514959679.py:4: SettingWithCopyWarning: \n",
      "A value is trying to be set on a copy of a slice from a DataFrame.\n",
      "Try using .loc[row_indexer,col_indexer] = value instead\n",
      "\n",
      "See the caveats in the documentation: https://pandas.pydata.org/pandas-docs/stable/user_guide/indexing.html#returning-a-view-versus-a-copy\n",
      "  df['downregulated'] = df['logFC'].apply(lambda x: x if x < 0 else 0)\n",
      "/var/folders/tb/s68l7gcj6rg4952d2x7x3jd80000gn/T/ipykernel_32546/1514959679.py:5: SettingWithCopyWarning: \n",
      "A value is trying to be set on a copy of a slice from a DataFrame.\n",
      "Try using .loc[row_indexer,col_indexer] = value instead\n",
      "\n",
      "See the caveats in the documentation: https://pandas.pydata.org/pandas-docs/stable/user_guide/indexing.html#returning-a-view-versus-a-copy\n",
      "  df['upregulated_pvalue'] = df.apply(lambda row: row['AdjustedPvalue'] if row['logFC'] > 0 else np.nan, axis=1)\n",
      "/var/folders/tb/s68l7gcj6rg4952d2x7x3jd80000gn/T/ipykernel_32546/1514959679.py:6: SettingWithCopyWarning: \n",
      "A value is trying to be set on a copy of a slice from a DataFrame.\n",
      "Try using .loc[row_indexer,col_indexer] = value instead\n",
      "\n",
      "See the caveats in the documentation: https://pandas.pydata.org/pandas-docs/stable/user_guide/indexing.html#returning-a-view-versus-a-copy\n",
      "  df['downregulated_pvalue'] = df.apply(lambda row: row['AdjustedPvalue'] if row['logFC'] < 0 else np.nan, axis=1)\n"
     ]
    }
   ],
   "source": [
    "# Prepare data for each timepoint\n",
    "k0w0_up, k0w0_down = prepare_data(maturation_K0W0, 'K0W0')\n",
    "k2w2_up, k2w2_down = prepare_data(maturation_K2W2, 'K2W2')\n",
    "k4w4_up, k4w4_down = prepare_data(maturation_K4W4, 'K4W4')\n",
    "\n",
    "# Merge data into a single DataFrame for fold change\n",
    "merged_df = pd.merge(k0w0_up[['gene_ID', 'K0W0_up']], k0w0_down[['gene_ID', 'K0W0_down']], on='gene_ID')\n",
    "merged_df = pd.merge(merged_df, k2w2_up[['gene_ID', 'K2W2_up']], on='gene_ID')\n",
    "merged_df = pd.merge(merged_df, k2w2_down[['gene_ID', 'K2W2_down']], on='gene_ID')\n",
    "merged_df = pd.merge(merged_df, k4w4_up[['gene_ID', 'K4W4_up']], on='gene_ID')\n",
    "merged_df = pd.merge(merged_df, k4w4_down[['gene_ID', 'K4W4_down']], on='gene_ID')\n",
    "\n",
    "# Set gene_ID as the index\n",
    "merged_df.set_index('gene_ID', inplace=True)\n",
    "\n",
    "# Merge data into a single DataFrame for p-values\n",
    "merged_df_p = pd.merge(k0w0_up[['gene_ID', 'K0W0_up_pvalue']], k0w0_down[['gene_ID', 'K0W0_down_pvalue']], on='gene_ID')\n",
    "merged_df_p = pd.merge(merged_df_p, k2w2_up[['gene_ID', 'K2W2_up_pvalue']], on='gene_ID')\n",
    "merged_df_p = pd.merge(merged_df_p, k2w2_down[['gene_ID', 'K2W2_down_pvalue']], on='gene_ID')\n",
    "merged_df_p = pd.merge(merged_df_p, k4w4_up[['gene_ID', 'K4W4_up_pvalue']], on='gene_ID')\n",
    "merged_df_p = pd.merge(merged_df_p, k4w4_down[['gene_ID', 'K4W4_down_pvalue']], on='gene_ID')\n",
    "\n",
    "# Set gene_ID as the index\n",
    "merged_df_p.set_index('gene_ID', inplace=True)\n",
    "\n",
    "# Find significant points\n",
    "significant_points = np.where(merged_df_p.values < 0.05)"
   ]
  },
  {
   "cell_type": "code",
   "execution_count": 47,
   "metadata": {},
   "outputs": [
    {
     "data": {
      "image/png": "[encoded data removed]",
      "text/plain": [
       "<Figure size 2000x800 with 4 Axes>"
      ]
     },
     "metadata": {},
     "output_type": "display_data"
    }
   ],
   "source": [
    "\n",
    "################################################### Plotting code ###################################################\n",
    "# Define the new labels for the x-axis\n",
    "new_labels = ['Up', 'Down', 'Up', 'Down', 'Up', 'Down']\n",
    "# Define the positions for the week labels\n",
    "week_labels_positions = [(0.1, 2.1, 'Week 0'), (2.1, 4.1, 'Week 2'), (4.1, 6.1, 'Week 4')]\n",
    "\n",
    "# Create a custom colormap for fold change values\n",
    "colors_list = ['orange', 'white', 'blue']\n",
    "n_bins = 100  # Discretizes the interpolation into bins\n",
    "cmap_name = 'custom_blue_orange'\n",
    "custom_cmap = mpl.colors.LinearSegmentedColormap.from_list(cmap_name, colors_list, N=n_bins)\n",
    "\n",
    "# Create a custom colormap for p-values\n",
    "colors_list_p = ['lightgreen', 'white', 'red']\n",
    "cmap_name_p = 'custom_red_green'\n",
    "custom_cmap_p = mpl.colors.LinearSegmentedColormap.from_list(cmap_name_p, colors_list_p, N=n_bins)\n",
    "\n",
    "# Plot the heatmaps\n",
    "fig, axes = plt.subplots(nrows=1, ncols=2, figsize=(20, 8))\n",
    "\n",
    "# Fold change heatmap\n",
    "ax1 = sns.heatmap(merged_df, cmap=custom_cmap, center=0, cbar_kws={'label': 'log(Fold Change)'}, ax=axes[0])\n",
    "ax1.set_xlabel('Maturation related', fontsize=14)\n",
    "ax1.xaxis.tick_top()\n",
    "ax1.set_ylabel('')\n",
    "ax1.set_yticklabels(ax1.get_yticklabels(), rotation=0)\n",
    "ax1.set_xticklabels(new_labels)\n",
    "\n",
    "# P-value heatmap\n",
    "ax2 = sns.heatmap(merged_df_p, cmap=custom_cmap_p, center=0, cbar_kws={'label': 'Adjusted p-value'}, ax=axes[1])\n",
    "ax2.set_xlabel('Significance', fontsize=14)\n",
    "ax2.xaxis.tick_top()\n",
    "ax2.set_ylabel('')\n",
    "ax2.set_yticklabels(ax2.get_yticklabels(), rotation=0)\n",
    "ax2.set_xticklabels(new_labels)\n",
    "\n",
    "# Add rectangular, spaced, and very thin colored bars at the top\n",
    "bar_y_position = ax1.get_position().y1 + 0.05\n",
    "label_y_position = bar_y_position + 0.05\n",
    "bar_height = 0.02\n",
    "number_of_columns_in_heatmap = 6\n",
    "\n",
    "# Get colors from the tab20c colormap for the bars\n",
    "colors_for_bars = [plt.get_cmap('tab20b')(i) for i in range(0,4)]\n",
    "colors_for_bars.reverse()\n",
    "\n",
    "# Add bars\n",
    "for idx, (start, end) in enumerate([(0, 2), (2, 4), (4, 6)]):\n",
    "    fig.patches.extend([mpl.patches.Rectangle(\n",
    "        (axes[0].get_position().x0 + start / number_of_columns_in_heatmap * (axes[0].get_position().width), bar_y_position),\n",
    "        (end-start) / number_of_columns_in_heatmap * (axes[0].get_position().width), bar_height,\n",
    "        linewidth=1, edgecolor=None, facecolor=colors_for_bars[idx], transform=fig.transFigure, clip_on=False\n",
    "    )])\n",
    "    fig.patches.extend([mpl.patches.Rectangle(\n",
    "        (axes[1].get_position().x0 + start / number_of_columns_in_heatmap * (axes[1].get_position().width), bar_y_position),\n",
    "        (end-start) / number_of_columns_in_heatmap * (axes[1].get_position().width), bar_height,\n",
    "        linewidth=1, edgecolor=None, facecolor=colors_for_bars[idx], transform=fig.transFigure, clip_on=False\n",
    "    )])\n",
    "\n",
    "# Add week labels on top for both heatmaps\n",
    "for start, end, label in week_labels_positions:\n",
    "    fig.text(\n",
    "        (axes[0].get_position().x0 + axes[0].get_position().width * (start + end) / 2 / number_of_columns_in_heatmap), \n",
    "        label_y_position, label, ha='center', va='bottom', fontsize=12, transform=fig.transFigure\n",
    "    )\n",
    "    fig.text(\n",
    "        (axes[1].get_position().x0 + axes[1].get_position().width * (start + end) / 2 / number_of_columns_in_heatmap), \n",
    "        label_y_position, label, ha='center', va='bottom', fontsize=12, transform=fig.transFigure\n",
    "    )\n",
    "\n",
    "# Adjust x-axis label position below the heatmap\n",
    "ax1.xaxis.set_label_coords(0.5, -0.1, transform=ax1.transAxes)\n",
    "ax2.xaxis.set_label_coords(0.5, -0.1, transform=ax2.transAxes)\n",
    "\n",
    "# Plot stars for significant points\n",
    "for y, x in zip(*significant_points):\n",
    "    ax2.scatter(x + 0.5, y + 0.5, marker='*', color='green', s=150, zorder = 5)\n",
    "# Create a custom legend for the star markers\n",
    "star_patch = mpl.lines.Line2D([0], [0], marker='*', color='w', label='Adjusted p-value < 0.05', markerfacecolor='green', markersize=15)\n",
    "# Add the legend to the significance plot\n",
    "ax2.legend(handles=[star_patch], loc='lower right', fontsize=12, bbox_to_anchor=(1.0, -0.06), borderaxespad=0.)\n",
    "\n",
    "plt.show()"
   ]
  },
  {
   "cell_type": "code",
   "execution_count": 6,
   "metadata": {},
   "outputs": [],
   "source": [
    "# write a function to separate the upregulated and downregulated genes\n",
    "def separate_genes(df):\n",
    "    upregulated = df[df['logFC'] > 1]\n",
    "    downregulated = df[df['logFC'] < -1]\n",
    "    return upregulated, downregulated"
   ]
  },
  {
   "cell_type": "code",
   "execution_count": 7,
   "metadata": {},
   "outputs": [],
   "source": [
    "# get the upregulated and downregulated genes for each timepoint pick top 100 based on the sorted adjusted p-values)\n",
    "k0w0_upregulated, k0w0_downregulated = separate_genes(df_K0W0)\n",
    "k2w2_upregulated, k2w2_downregulated = separate_genes(df_K2W2)\n",
    "k4w4_upregulated, k4w4_downregulated = separate_genes(df_K4W4)"
   ]
  },
  {
   "cell_type": "code",
   "execution_count": 16,
   "metadata": {},
   "outputs": [
    {
     "name": "stdout",
     "output_type": "stream",
     "text": [
      "               Unnamed: 0     logFC    logCPM            F        PValue  \\\n",
      "9142   ENSG00000148942.15  4.457365  6.444169  1074.571171  3.178708e-45   \n",
      "8627   ENSG00000144891.19  3.234106  6.111890   893.330168  1.630865e-42   \n",
      "4696   ENSG00000117394.24  2.252551  9.968947   852.765161  7.741475e-42   \n",
      "44     ENSG00000003989.18  2.643462  6.658374   786.130592  1.167551e-40   \n",
      "165    ENSG00000007062.12  3.246541  5.365071   621.159434  2.704379e-37   \n",
      "...                   ...       ...       ...          ...           ...   \n",
      "29202   ENSG00000230368.2  2.683327  1.252035   131.522612  5.990821e-18   \n",
      "920     ENSG00000065320.9  1.315238  4.738686   131.320097  6.130613e-18   \n",
      "6636   ENSG00000132698.15  2.501396  2.129132   129.516560  8.442983e-18   \n",
      "20109  ENSG00000205420.11  3.076577  0.537947   127.275568  9.480974e-18   \n",
      "11958  ENSG00000166900.17  1.323390  5.055959   128.847760  9.573861e-18   \n",
      "\n",
      "       AdjustedPvalue  gene_ID  \n",
      "9142     6.648692e-41  SLC5A12  \n",
      "8627     2.046702e-38    AGTR1  \n",
      "4696     8.096164e-38   SLC2A1  \n",
      "44       9.157829e-37   SLC7A2  \n",
      "165      1.167522e-33    PROM1  \n",
      "...               ...      ...  \n",
      "29202    1.418559e-15   FAM41C  \n",
      "920      1.446202e-15     NTN1  \n",
      "6636     1.947753e-15    RAB25  \n",
      "20109    2.179200e-15    KRT6A  \n",
      "11958    2.184546e-15     STX3  \n",
      "\n",
      "[100 rows x 7 columns]\n"
     ]
    }
   ],
   "source": [
    "# get the top 100 upregulated and downregulated genes for each timepoint\n",
    "top_100_k0w0_upregulated = k0w0_upregulated.head(100)\n",
    "top_100_k0w0_downregulated = k0w0_downregulated.head(100)\n",
    "top_100_k2w2_upregulated = k2w2_upregulated.head(100)\n",
    "top_100_k2w2_downregulated = k2w2_downregulated.head(100)\n",
    "top_100_k4w4_upregulated = k4w4_upregulated.head(100)\n",
    "top_100_k4w4_downregulated = k4w4_downregulated.head(100)\n"
   ]
  },
  {
   "cell_type": "code",
   "execution_count": 17,
   "metadata": {},
   "outputs": [],
   "source": [
    "# save as csvs\n",
    "top_100_k0w0_upregulated.to_csv('top_100_k0w0_upregulated.csv', index=False)\n",
    "top_100_k0w0_downregulated.to_csv('top_100_k0w0_downregulated.csv', index=False)\n",
    "top_100_k2w2_upregulated.to_csv('top_100_k2w2_upregulated.csv', index=False)\n",
    "top_100_k2w2_downregulated.to_csv('top_100_k2w2_downregulated.csv', index=False)\n",
    "top_100_k4w4_upregulated.to_csv('top_100_k4w4_upregulated.csv', index=False)\n",
    "top_100_k4w4_downregulated.to_csv('top_100_k4w4_downregulated.csv', index=False)"
   ]
  }
 ],
 "metadata": {
  "kernelspec": {
   "display_name": "hubs",
   "language": "python",
   "name": "python3"
  },
  "language_info": {
   "codemirror_mode": {
    "name": "ipython",
    "version": 3
   },
   "file_extension": ".py",
   "mimetype": "text/x-python",
   "name": "python",
   "nbconvert_exporter": "python",
   "pygments_lexer": "ipython3",
   "version": "3.10.14"
  }
 },
 "nbformat": 4,
 "nbformat_minor": 2
}
