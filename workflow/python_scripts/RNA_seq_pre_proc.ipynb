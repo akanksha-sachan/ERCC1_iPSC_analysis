{
 "cells": [
  {
   "cell_type": "markdown",
   "metadata": {},
   "source": [
    "## 0: Seeing the quality of sequenced reads"
   ]
  },
  {
   "cell_type": "markdown",
   "metadata": {},
   "source": [
    "#### Check Fastqc for all raw sample files (sbatch)"
   ]
  },
  {
   "cell_type": "code",
   "execution_count": 2,
   "metadata": {},
   "outputs": [
    {
     "name": "stdout",
     "output_type": "stream",
     "text": [
      "\n"
     ]
    }
   ],
   "source": [
    "import subprocess\n",
    "import os\n",
    "\n",
    "# Set the directory of the FastQC reports (input to MutiQC)\n",
    "fastqc_dir = \"/ocean/projects/cis240075p/asachan/datasets/iPSC_human_cells/bulk_RNA/QC_outs\"\n",
    "# Set the output directory for the MultiQC report\n",
    "output_dir = \"/ocean/projects/cis240075p/asachan/datasets/iPSC_human_cells/bulk_RNA/QC_outs/multiQC_reports\"\n",
    "# Run MultiQC with the specified output directory\n",
    "result = subprocess.run([\"multiqc\", fastqc_dir, \"-o\", output_dir], capture_output=True, text=True)\n",
    "# Print the output to ensure it ran correctly\n",
    "print(result.stdout)\n",
    "# Check for errors\n",
    "if result.returncode != 0:\n",
    "    print(f\"Error running MultiQC: {result.stderr}\")\n"
   ]
  },
  {
   "cell_type": "markdown",
   "metadata": {},
   "source": [
    "#### Notes about the reads:\n",
    "* Sequences of adapter\n",
    "\n",
    "  5' Adapter/ It is the PCR_Primer1_rc in TruSeq2-PE.fa from trimmomatic/hence cutadapt identified it as 3' adapter.\n",
    "\n",
    "  5'-AGATCGGAAGAGCGTCGTGTAGGGAAAGAGTGTAGATCTCGGTGGTCGCCGTATCATT-3'\n",
    "\n",
    "  3' Adapter:\n",
    "\n",
    "  5'-GATCGGAAGAGCACACGTCTGAACTCCAGTCACGGATGACTATCTCGTATGCCGTCTTCTGCTTG-3'"
   ]
  },
  {
   "cell_type": "markdown",
   "metadata": {},
   "source": [
    "## 1: Pre-process your fastq files for decontamination and removal of adapter sequences {Trimming}"
   ]
  },
  {
   "cell_type": "markdown",
   "metadata": {},
   "source": [
    "#### Run adapter trimming {cut-adapt:sbatch}\n",
    "* Check for presence of both adapter sequences in the paired reads. If either of the paired read contains the adapter contamination, discard both.\n",
    "* Runtime: ~10 mins using 16 cores per sample"
   ]
  },
  {
   "cell_type": "markdown",
   "metadata": {},
   "source": [
    "#### Check MultiQC for trimmed reads"
   ]
  },
  {
   "cell_type": "code",
   "execution_count": 1,
   "metadata": {},
   "outputs": [
    {
     "name": "stdout",
     "output_type": "stream",
     "text": [
      "\n"
     ]
    }
   ],
   "source": [
    "import subprocess\n",
    "import os\n",
    "\n",
    "# Set the directory of the FastQC reports (input to MutiQC)\n",
    "fastqc_dir = f\"/ocean/projects/cis240075p/asachan/datasets/iPSC_human_cells/bulk_RNA/QC_outs/trimmed\"\n",
    "# Set the output directory for the MultiQC report\n",
    "output_dir = \"/ocean/projects/cis240075p/asachan/datasets/iPSC_human_cells/bulk_RNA/QC_outs/multiQC_reports\"\n",
    "# Run MultiQC with the specified output directory\n",
    "result = subprocess.run([\"multiqc\", fastqc_dir, \"-o\", output_dir], capture_output=True, text=True)\n",
    "# Print the output to ensure it ran correctly\n",
    "print(result.stdout)\n",
    "# Check for errors\n",
    "if result.returncode != 0:\n",
    "    print(f\"Error running MultiQC: {result.stderr}\")\n"
   ]
  },
  {
   "cell_type": "markdown",
   "metadata": {
    "vscode": {
     "languageId": "plaintext"
    }
   },
   "source": [
    "## 2: Pseudoalign the reads using bootstrapping the reads using EM to increase signal {Kallisto} - run sbatch script"
   ]
  },
  {
   "cell_type": "markdown",
   "metadata": {},
   "source": [
    "#### Check MultiQC for mapped reads: \n",
    "* kallisto command &> samplename_kallisto.log needs to be there for multiQC to pick up on Kallisto analysis "
   ]
  },
  {
   "cell_type": "code",
   "execution_count": 4,
   "metadata": {},
   "outputs": [
    {
     "name": "stdout",
     "output_type": "stream",
     "text": [
      "CompletedProcess(args=['multiqc', '/ocean/projects/cis240075p/asachan/datasets/iPSC_human_cells/bulk_RNA/kallisto_outs/KO_D0_S1/run_info.json', '-o', '/ocean/projects/cis240075p/asachan/datasets/iPSC_human_cells/bulk_RNA/kallisto_outs/multiQC_reports'], returncode=0, stdout='', stderr='\\n\\x1b[91m///\\x1b[0m \\x1b]8;id=730686;https://multiqc.info\\x1b\\\\\\x1b[1mMultiQC\\x1b[0m\\x1b]8;;\\x1b\\\\ 🔍 \\x1b[2mv1.24.1\\x1b[0m\\n\\n\\x1b[34m       file_search\\x1b[0m | Search path: /ocean/projects/cis240075p/asachan/datasets/iPSC_human_cells/bulk_RNA/kallisto_outs/KO_D0_S1/run_info.json\\n\\x1b[?25l\\n\\x1b[2K       \\x1b[32m⠋\\x1b[0m \\x1b[34msearching\\x1b[0m | \\x1b[90m━━━━━━━━━━━━━━━━━━━━━━━━━━━━━━━━━━━━━━━━\\x1b[0m \\x1b[35m  0%\\x1b[0m \\x1b[32m0/1\\x1b[0m  \\n\\x1b[2K         \\x1b[34msearching\\x1b[0m | \\x1b[90m━━━━━━━━━━━━━━━━━━━━━━━━━━━━━━━━━━━━━━━━\\x1b[0m \\x1b[35m100%\\x1b[0m \\x1b[32m1/1\\x1b[0m  \\n\\x1b[?25h\\x1b[34m           multiqc\\x1b[0m | \\x1b[33mNo analysis results found. Cleaning up…\\x1b[0m\\n')\n"
     ]
    }
   ],
   "source": [
    "import subprocess\n",
    "import os\n",
    "\n",
    "# Set the directory of the FastQC reports (input to MutiQC)\n",
    "mapped_dir = f\"/ocean/projects/cis240075p/asachan/datasets/iPSC_human_cells/bulk_RNA/kallisto_outs/KO_D0_S1/run_info.json\"\n",
    "# Set the output directory for the MultiQC report\n",
    "output_dir = \"/ocean/projects/cis240075p/asachan/datasets/iPSC_human_cells/bulk_RNA/kallisto_outs/multiQC_reports\"\n",
    "# Run MultiQC with the specified output directory\n",
    "result = subprocess.run([\"multiqc\", mapped_dir, \"-o\", output_dir], capture_output=True, text=True)\n",
    "# Print the output to ensure it ran correctly\n",
    "print(result)\n",
    "# Check for errors\n",
    "if result.returncode != 0:\n",
    "    print(f\"Error running MultiQC: {result.stderr}\")\n"
   ]
  }
 ],
 "metadata": {
  "kernelspec": {
   "display_name": "ipsc",
   "language": "python",
   "name": "python3"
  },
  "language_info": {
   "codemirror_mode": {
    "name": "ipython",
    "version": 3
   },
   "file_extension": ".py",
   "mimetype": "text/x-python",
   "name": "python",
   "nbconvert_exporter": "python",
   "pygments_lexer": "ipython3",
   "version": "3.10.14"
  }
 },
 "nbformat": 4,
 "nbformat_minor": 2
}
