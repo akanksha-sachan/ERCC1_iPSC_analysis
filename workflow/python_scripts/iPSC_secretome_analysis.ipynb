{
 "cells": [
  {
   "cell_type": "code",
   "execution_count": 2,
   "metadata": {},
   "outputs": [],
   "source": [
    "import matplotlib.pyplot as plt\n",
    "import matplotlib as mpl\n",
    "import numpy as np\n",
    "import pandas as pd\n",
    "import seaborn as sns"
   ]
  },
  {
   "cell_type": "markdown",
   "metadata": {},
   "source": [
    "## bulk proteomics ERCC1 KO in human iPSC cells (with controls - WT cells)\n",
    "### Data has triplicates (3 conditional media samples) for two time points (W2 and W4)\n",
    "#### * ercc1_ko at week 2: CM_KO_W2_1, CM_KO_W2_2, CM_KO_W2_3\n",
    "#### * ercc1_ko at week 4: CM_KO_W4_1, CM_KO_W4_2, CM_KO_W4_3\n",
    "#### * wt at week 2: CM_WT_W2_1, CM_WT_W2_2, CM_WT_W2_3\n",
    "#### * wt at week 4: CM_WT_W4_1, CM_WT_W4_2, CM_WT_W4_3"
   ]
  },
  {
   "cell_type": "code",
   "execution_count": 4,
   "metadata": {},
   "outputs": [
    {
     "name": "stdout",
     "output_type": "stream",
     "text": [
      "     Sample Name    Plate ID    Protein Group  Intensity (Log10)  \\\n",
      "0     CM_KO_W2_2  2024ms0511  Q7Z6B7;Q7Z6B7-2             4.0099   \n",
      "1     CM_KO_W2_3  2024ms0511  Q7Z6B7;Q7Z6B7-2             4.2997   \n",
      "2       CM_KO_W3  2024ms0511  Q7Z6B7;Q7Z6B7-2             4.0439   \n",
      "3     CM_KO_W4_2  2024ms0511  Q7Z6B7;Q7Z6B7-2             4.3130   \n",
      "4  CM_KO_W4_DOXO  2024ms0511  Q7Z6B7;Q7Z6B7-2             4.0749   \n",
      "\n",
      "   Normalized Intensity (Log10)  \\\n",
      "0                       -0.6670   \n",
      "1                       -0.2263   \n",
      "2                       -0.5182   \n",
      "3                       -0.2810   \n",
      "4                       -0.4952   \n",
      "\n",
      "                                       Protein Names     Gene Names  \\\n",
      "0  SLIT-ROBO Rho GTPase-activating protein 1;Isof...  SRGAP1;SRGAP1   \n",
      "1  SLIT-ROBO Rho GTPase-activating protein 1;Isof...  SRGAP1;SRGAP1   \n",
      "2  SLIT-ROBO Rho GTPase-activating protein 1;Isof...  SRGAP1;SRGAP1   \n",
      "3  SLIT-ROBO Rho GTPase-activating protein 1;Isof...  SRGAP1;SRGAP1   \n",
      "4  SLIT-ROBO Rho GTPase-activating protein 1;Isof...  SRGAP1;SRGAP1   \n",
      "\n",
      "  MaxRepresentation NP                                 Biological Process  \\\n",
      "0              XT NP A  signal transduction [GO:0007165]; regulation o...   \n",
      "1              XT NP A  signal transduction [GO:0007165]; regulation o...   \n",
      "2              XT NP A  signal transduction [GO:0007165]; regulation o...   \n",
      "3              XT NP A  signal transduction [GO:0007165]; regulation o...   \n",
      "4              XT NP A  signal transduction [GO:0007165]; regulation o...   \n",
      "\n",
      "                                  Molecular Function  \\\n",
      "0  GTPase activator activity [GO:0005096]; protei...   \n",
      "1  GTPase activator activity [GO:0005096]; protei...   \n",
      "2  GTPase activator activity [GO:0005096]; protei...   \n",
      "3  GTPase activator activity [GO:0005096]; protei...   \n",
      "4  GTPase activator activity [GO:0005096]; protei...   \n",
      "\n",
      "                                  Cellular Component  \n",
      "0  cytosol [GO:0005829]; cytoplasm [GO:0005737]; ...  \n",
      "1  cytosol [GO:0005829]; cytoplasm [GO:0005737]; ...  \n",
      "2  cytosol [GO:0005829]; cytoplasm [GO:0005737]; ...  \n",
      "3  cytosol [GO:0005829]; cytoplasm [GO:0005737]; ...  \n",
      "4  cytosol [GO:0005829]; cytoplasm [GO:0005737]; ...  \n",
      "Index(['Sample Name', 'Plate ID', 'Protein Group', 'Intensity (Log10)',\n",
      "       'Normalized Intensity (Log10)', 'Protein Names', 'Gene Names',\n",
      "       'MaxRepresentation NP', 'Biological Process', 'Molecular Function',\n",
      "       'Cellular Component'],\n",
      "      dtype='object')\n",
      "(149128, 11)\n"
     ]
    }
   ],
   "source": [
    "# open csvs\n",
    "working_dir = '/ocean/projects/cis240075p/asachan/datasets/iPSC_human_cells/bulk_exosome'\n",
    "#read tsv files\n",
    "df = pd.read_csv(working_dir + '/Protein_Group_Panel_All CMs.tsv', sep='\\t')\n",
    "print(df.head()); print(df.columns); print(df.shape)"
   ]
  },
  {
   "cell_type": "markdown",
   "metadata": {},
   "source": [
    "### Create sample by protein intensity matrices"
   ]
  },
  {
   "cell_type": "code",
   "execution_count": 17,
   "metadata": {},
   "outputs": [],
   "source": []
  }
 ],
 "metadata": {
  "kernelspec": {
   "display_name": "ipsc",
   "language": "python",
   "name": "python3"
  },
  "language_info": {
   "codemirror_mode": {
    "name": "ipython",
    "version": 3
   },
   "file_extension": ".py",
   "mimetype": "text/x-python",
   "name": "python",
   "nbconvert_exporter": "python",
   "pygments_lexer": "ipython3",
   "version": "3.10.14"
  }
 },
 "nbformat": 4,
 "nbformat_minor": 2
}
