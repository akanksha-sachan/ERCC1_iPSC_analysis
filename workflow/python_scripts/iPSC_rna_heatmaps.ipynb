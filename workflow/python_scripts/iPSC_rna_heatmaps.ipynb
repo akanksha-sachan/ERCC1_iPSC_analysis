{
 "cells": [
  {
   "cell_type": "code",
   "execution_count": 1,
   "metadata": {},
   "outputs": [],
   "source": [
    "import matplotlib.pyplot as plt\n",
    "import matplotlib as mpl\n",
    "import numpy as np\n",
    "import pandas as pd\n",
    "import seaborn as sns"
   ]
  },
  {
   "cell_type": "markdown",
   "metadata": {},
   "source": [
    "## bulkRNA ERCC1 KO in human iPSC cells (with controls - WT cultured cells)\n",
    "### Data has triplicates (3 samples) for three time points (0, W2, W4)"
   ]
  },
  {
   "cell_type": "code",
   "execution_count": 2,
   "metadata": {},
   "outputs": [],
   "source": [
    "# open csvs\n",
    "working_dir = '/ocean/projects/cis240075p/asachan/datasets/iPSC_human_cells/bulk_RNA/edgeR_DEGs/'\n",
    "df_K0W0 = pd.read_csv(working_dir + 'K0W0_DEG.csv')\n",
    "df_K2W2 = pd.read_csv(working_dir + 'K2W2_DEG.csv')\n",
    "df_K4W4 = pd.read_csv(working_dir + 'K4W4_DEG.csv')"
   ]
  },
  {
   "cell_type": "code",
   "execution_count": 3,
   "metadata": {},
   "outputs": [],
   "source": [
    "# Function to convert column to numeric, coerce errors to NaN\n",
    "def convert_to_numeric(df, column):\n",
    "    df[column] = pd.to_numeric(df[column], errors='coerce')\n",
    "    return df\n",
    "\n",
    "# Convert 'Adjustedpvalue' column to numeric\n",
    "df_K0W0 = convert_to_numeric(df_K0W0, 'AdjustedPvalue')\n",
    "df_K2W2 = convert_to_numeric(df_K2W2, 'AdjustedPvalue')\n",
    "df_K4W4 = convert_to_numeric(df_K4W4, 'AdjustedPvalue')\n",
    "\n",
    "# Sort the DataFrames by 'Adjustedpvalue'\n",
    "df_K0W0 = df_K0W0.sort_values(by='AdjustedPvalue')\n",
    "df_K2W2 = df_K2W2.sort_values(by='AdjustedPvalue')\n",
    "df_K4W4 = df_K4W4.sort_values(by='AdjustedPvalue')\n"
   ]
  },
  {
   "cell_type": "code",
   "execution_count": 4,
   "metadata": {},
   "outputs": [
    {
     "data": {
      "text/html": [
       "<div>\n",
       "<style scoped>\n",
       "    .dataframe tbody tr th:only-of-type {\n",
       "        vertical-align: middle;\n",
       "    }\n",
       "\n",
       "    .dataframe tbody tr th {\n",
       "        vertical-align: top;\n",
       "    }\n",
       "\n",
       "    .dataframe thead th {\n",
       "        text-align: right;\n",
       "    }\n",
       "</style>\n",
       "<table border=\"1\" class=\"dataframe\">\n",
       "  <thead>\n",
       "    <tr style=\"text-align: right;\">\n",
       "      <th></th>\n",
       "      <th>Unnamed: 0</th>\n",
       "      <th>logFC</th>\n",
       "      <th>logCPM</th>\n",
       "      <th>F</th>\n",
       "      <th>PValue</th>\n",
       "      <th>AdjustedPvalue</th>\n",
       "      <th>gene_ID</th>\n",
       "    </tr>\n",
       "  </thead>\n",
       "  <tbody>\n",
       "    <tr>\n",
       "      <th>6175</th>\n",
       "      <td>ENSG00000129824.16</td>\n",
       "      <td>-8.138272</td>\n",
       "      <td>7.214968</td>\n",
       "      <td>2687.058138</td>\n",
       "      <td>5.340980e-59</td>\n",
       "      <td>3.351411e-54</td>\n",
       "      <td>RPS4Y1</td>\n",
       "    </tr>\n",
       "    <tr>\n",
       "      <th>15977</th>\n",
       "      <td>ENSG00000185559.16</td>\n",
       "      <td>-2.798630</td>\n",
       "      <td>10.178677</td>\n",
       "      <td>1056.410105</td>\n",
       "      <td>5.660706e-45</td>\n",
       "      <td>1.776018e-40</td>\n",
       "      <td>DLK1</td>\n",
       "    </tr>\n",
       "    <tr>\n",
       "      <th>1121</th>\n",
       "      <td>ENSG00000070669.17</td>\n",
       "      <td>-3.688568</td>\n",
       "      <td>6.797319</td>\n",
       "      <td>960.864145</td>\n",
       "      <td>1.402509e-43</td>\n",
       "      <td>2.933535e-39</td>\n",
       "      <td>ASNS</td>\n",
       "    </tr>\n",
       "    <tr>\n",
       "      <th>6311</th>\n",
       "      <td>ENSG00000130707.18</td>\n",
       "      <td>-2.829201</td>\n",
       "      <td>7.429809</td>\n",
       "      <td>929.159630</td>\n",
       "      <td>4.346299e-43</td>\n",
       "      <td>6.818148e-39</td>\n",
       "      <td>ASS1</td>\n",
       "    </tr>\n",
       "    <tr>\n",
       "      <th>6998</th>\n",
       "      <td>ENSG00000135069.14</td>\n",
       "      <td>-2.878677</td>\n",
       "      <td>7.237614</td>\n",
       "      <td>903.197995</td>\n",
       "      <td>1.127485e-42</td>\n",
       "      <td>1.414971e-38</td>\n",
       "      <td>PSAT1</td>\n",
       "    </tr>\n",
       "    <tr>\n",
       "      <th>...</th>\n",
       "      <td>...</td>\n",
       "      <td>...</td>\n",
       "      <td>...</td>\n",
       "      <td>...</td>\n",
       "      <td>...</td>\n",
       "      <td>...</td>\n",
       "      <td>...</td>\n",
       "    </tr>\n",
       "    <tr>\n",
       "      <th>8464</th>\n",
       "      <td>ENSG00000143839.15</td>\n",
       "      <td>1.985189</td>\n",
       "      <td>-0.220820</td>\n",
       "      <td>38.701919</td>\n",
       "      <td>2.945566e-08</td>\n",
       "      <td>1.855736e-06</td>\n",
       "      <td>REN</td>\n",
       "    </tr>\n",
       "    <tr>\n",
       "      <th>15759</th>\n",
       "      <td>ENSG00000184661.14</td>\n",
       "      <td>1.084291</td>\n",
       "      <td>2.676645</td>\n",
       "      <td>38.588353</td>\n",
       "      <td>2.957309e-08</td>\n",
       "      <td>1.861266e-06</td>\n",
       "      <td>CDCA2</td>\n",
       "    </tr>\n",
       "    <tr>\n",
       "      <th>12330</th>\n",
       "      <td>ENSG00000168374.11</td>\n",
       "      <td>-0.454927</td>\n",
       "      <td>8.377573</td>\n",
       "      <td>38.552130</td>\n",
       "      <td>2.992990e-08</td>\n",
       "      <td>1.881835e-06</td>\n",
       "      <td>ARF4</td>\n",
       "    </tr>\n",
       "    <tr>\n",
       "      <th>5892</th>\n",
       "      <td>ENSG00000127241.18</td>\n",
       "      <td>0.691548</td>\n",
       "      <td>5.042793</td>\n",
       "      <td>38.481323</td>\n",
       "      <td>3.064737e-08</td>\n",
       "      <td>1.925017e-06</td>\n",
       "      <td>MASP1</td>\n",
       "    </tr>\n",
       "    <tr>\n",
       "      <th>7910</th>\n",
       "      <td>ENSG00000140092.16</td>\n",
       "      <td>-0.511722</td>\n",
       "      <td>7.122041</td>\n",
       "      <td>38.476311</td>\n",
       "      <td>3.069859e-08</td>\n",
       "      <td>1.926306e-06</td>\n",
       "      <td>FBLN5</td>\n",
       "    </tr>\n",
       "  </tbody>\n",
       "</table>\n",
       "<p>1000 rows × 7 columns</p>\n",
       "</div>"
      ],
      "text/plain": [
       "               Unnamed: 0     logFC     logCPM            F        PValue  \\\n",
       "6175   ENSG00000129824.16 -8.138272   7.214968  2687.058138  5.340980e-59   \n",
       "15977  ENSG00000185559.16 -2.798630  10.178677  1056.410105  5.660706e-45   \n",
       "1121   ENSG00000070669.17 -3.688568   6.797319   960.864145  1.402509e-43   \n",
       "6311   ENSG00000130707.18 -2.829201   7.429809   929.159630  4.346299e-43   \n",
       "6998   ENSG00000135069.14 -2.878677   7.237614   903.197995  1.127485e-42   \n",
       "...                   ...       ...        ...          ...           ...   \n",
       "8464   ENSG00000143839.15  1.985189  -0.220820    38.701919  2.945566e-08   \n",
       "15759  ENSG00000184661.14  1.084291   2.676645    38.588353  2.957309e-08   \n",
       "12330  ENSG00000168374.11 -0.454927   8.377573    38.552130  2.992990e-08   \n",
       "5892   ENSG00000127241.18  0.691548   5.042793    38.481323  3.064737e-08   \n",
       "7910   ENSG00000140092.16 -0.511722   7.122041    38.476311  3.069859e-08   \n",
       "\n",
       "       AdjustedPvalue gene_ID  \n",
       "6175     3.351411e-54  RPS4Y1  \n",
       "15977    1.776018e-40    DLK1  \n",
       "1121     2.933535e-39    ASNS  \n",
       "6311     6.818148e-39    ASS1  \n",
       "6998     1.414971e-38   PSAT1  \n",
       "...               ...     ...  \n",
       "8464     1.855736e-06     REN  \n",
       "15759    1.861266e-06   CDCA2  \n",
       "12330    1.881835e-06    ARF4  \n",
       "5892     1.925017e-06   MASP1  \n",
       "7910     1.926306e-06   FBLN5  \n",
       "\n",
       "[1000 rows x 7 columns]"
      ]
     },
     "execution_count": 4,
     "metadata": {},
     "output_type": "execute_result"
    }
   ],
   "source": [
    "df_K0W0.head(1000) # -ve adjusted p-values, adjusted p-values get lower than p-values, column name was different from K0W0 and K4W4, column has some strings."
   ]
  },
  {
   "cell_type": "markdown",
   "metadata": {},
   "source": [
    "# Plotting heatmaps for genes belonging to pathways of interest"
   ]
  },
  {
   "cell_type": "code",
   "execution_count": 28,
   "metadata": {},
   "outputs": [],
   "source": [
    "# open specific sheets in the priority gene lists file\n",
    "df_FAO = pd.read_excel('/Users/Akanksha/JugnuLab/data_analysis/datasets/bulk_RNA_iPSC/Heatmap_priority_genes.xlsx', sheet_name='FAO & Krebs cycle')\n",
    "df_glycolysis = pd.read_excel('/Users/Akanksha/JugnuLab/data_analysis/datasets/bulk_RNA_iPSC/Heatmap_priority_genes.xlsx', sheet_name='Glycolysis')\n",
    "df_cellcycle = pd.read_excel('/Users/Akanksha/JugnuLab/data_analysis/datasets/bulk_RNA_iPSC/Heatmap_priority_genes.xlsx', sheet_name='Cell cycle')\n",
    "df_maturation = pd.read_excel('/Users/Akanksha/JugnuLab/data_analysis/datasets/bulk_RNA_iPSC/Heatmap_priority_genes.xlsx', sheet_name='Maturation')"
   ]
  },
  {
   "cell_type": "code",
   "execution_count": 5,
   "metadata": {},
   "outputs": [],
   "source": [
    "# open specific sheets in the priority gene lists file\n",
    "channel_genes = ['SLC1A1', 'SLC1A4', 'SLC2A1', 'SLC2A4', 'SLC5A1', 'SLC5A6', 'SLC6A3', 'SLC6A4', 'SLC7A5', 'SLC7A9', 'SLC10A1', 'SLC10A2', 'SLC16A1', 'SLC16A7', 'SLC22A1', 'SLC22A6', 'SLC25A1', 'SLC25A4', 'SLC30A1', 'SLC39A1']"
   ]
  },
  {
   "cell_type": "code",
   "execution_count": 17,
   "metadata": {},
   "outputs": [],
   "source": [
    "pantetheine_genes = ['PANK1', 'PANK2', 'PANK3', 'PANK4', 'PPCDC', 'PPCS', 'COASY', 'VNN1', 'VNN2', 'VNN3P', 'CDO1', 'CSAD', 'CYP27A1', 'SLC5A6', 'SLC6A4']"
   ]
  },
  {
   "cell_type": "code",
   "execution_count": 32,
   "metadata": {},
   "outputs": [
    {
     "name": "stdout",
     "output_type": "stream",
     "text": [
      "['ACADM', 'ACADVL', 'CPT1A', 'CPT1B', 'CD36', 'FABP3', 'ECH1', 'ACO2', 'LDHA', 'OGDH', 'SDHA', 'SDHB', 'SDHC', 'SDHD', 'MDH1', 'MDH2', 'FHP1', 'CS', 'ACADSB']\n",
      "['HK1', 'HK2', 'PFKM', 'ALDOC', 'GAPDH', 'ENO2', 'SLC2A1', 'SLC2A4', 'PGM1', 'PGK1']\n",
      "['CCNA2', 'CCNB1', 'CCNB2', 'CCND1', 'CCND2', 'CCNE1', 'CCNE2', 'CDK1', 'CDK4', 'CDK6', 'MCM2', 'CCND3', 'CDK2', 'CSNK2A1']\n",
      "['MYH7', 'MYH6', 'TNNT2', 'TNNI3', 'TPM1', 'ACTC1', 'MYL2', 'MYL3', 'MYL7', 'MYL4', 'MYLK2', 'NPPA', 'NPPB', 'PLN', 'RYR2', 'KCNH2', 'SCN5A', 'KCNQ1', 'ATP2A2']\n"
     ]
    }
   ],
   "source": [
    "# extract the gene names from the priority gene lists and store as list of strings\n",
    "FAO_genes = df_FAO['Genes'].tolist()\n",
    "glycolysis_genes = df_glycolysis['Genes'].tolist()\n",
    "cellcycle_genes = df_cellcycle['Genes'].tolist()\n",
    "maturation_genes = df_maturation['Genes'].tolist()\n",
    "\n",
    "# convert the gene names to uppercase and remove any trailing whitespaces\n",
    "FAO_genes = [gene.upper().strip() for gene in FAO_genes]\n",
    "glycolysis_genes = [gene.upper().strip() for gene in glycolysis_genes]\n",
    "cellcycle_genes = [gene.upper().strip() for gene in cellcycle_genes]\n",
    "maturation_genes = [gene.upper().strip() for gene in maturation_genes]\n",
    "\n",
    "# replace with updated names \n",
    "FAO_genes = ['ACADM', 'ACADVL', 'CPT1A', 'CPT1B', 'CD36', 'FABP3', 'ECH1', 'ACO2', 'LDHA', 'OGDH', 'SDHA', 'SDHB', 'SDHC', 'SDHD', 'MDH1', 'MDH2', 'FHP1', 'CS', 'ACADSB']\n",
    "glycolysis_genes = ['HK1', 'HK2', 'PFKM', 'ALDOC', 'GAPDH', 'ENO2', 'SLC2A1', 'SLC2A4', 'PGM1', 'PGK1']\n",
    "cellcycle_genes = ['CCNA2', 'CCNB1', 'CCNB2', 'CCND1', 'CCND2', 'CCNE1', 'CCNE2', 'CDK1', 'CDK4', 'CDK6', 'MCM2', 'CCND3', 'CDK2', 'CSNK2A1']\n",
    "maturation_genes = ['MYH7', 'MYH6', 'TNNT2', 'TNNI3', 'TPM1', 'ACTC1', 'MYL2', 'MYL3', 'MYL7', 'MYL4', 'MYLK2', 'NPPA', 'NPPB', 'PLN', 'RYR2', 'KCNH2', 'SCN5A', 'KCNQ1', 'ATP2A2']\n",
    "\n",
    "print(FAO_genes); print(glycolysis_genes); print(cellcycle_genes); print(maturation_genes)"
   ]
  },
  {
   "cell_type": "markdown",
   "metadata": {},
   "source": [
    "#### FAO genes search in DEGs"
   ]
  },
  {
   "cell_type": "code",
   "execution_count": 33,
   "metadata": {},
   "outputs": [
    {
     "name": "stdout",
     "output_type": "stream",
     "text": [
      "19 19\n",
      "19 19\n",
      "19 19\n",
      "[]\n"
     ]
    }
   ],
   "source": [
    "# search for FAO genes in the K0W0, K2W2 and K4W4 dataframes\n",
    "FAO_K0W0 = df_K0W0[df_K0W0['gene_ID'].isin(FAO_genes)]\n",
    "FAO_K2W2 = df_K2W2[df_K2W2['gene_ID'].isin(FAO_genes)]\n",
    "FAO_K4W4 = df_K4W4[df_K4W4['gene_ID'].isin(FAO_genes)]\n",
    "# print the number of genes found in the K0W0 dataframe\n",
    "print(len(FAO_genes), len(FAO_K0W0))\n",
    "print(len(FAO_genes), len(FAO_K2W2))\n",
    "print(len(FAO_genes), len(FAO_K4W4))\n",
    "# store the genes not found in a list\n",
    "FAO_K0W0_notfound = [gene for gene in FAO_genes if gene not in FAO_K0W0['gene_ID'].tolist()]\n",
    "print(FAO_K0W0_notfound)"
   ]
  },
  {
   "cell_type": "markdown",
   "metadata": {},
   "source": [
    "#### Glycolysis genes search in DEGs"
   ]
  },
  {
   "cell_type": "code",
   "execution_count": 34,
   "metadata": {},
   "outputs": [
    {
     "name": "stdout",
     "output_type": "stream",
     "text": [
      "10 10\n",
      "10 10\n",
      "10 10\n",
      "[]\n"
     ]
    }
   ],
   "source": [
    "# search for glycolysis genes in the K0W0, K2W2 and K4W4 dataframes\n",
    "glycolysis_K0W0 = df_K0W0[df_K0W0['gene_ID'].isin(glycolysis_genes)]\n",
    "glycolysis_K2W2 = df_K2W2[df_K2W2['gene_ID'].isin(glycolysis_genes)]\n",
    "glycolysis_K4W4 = df_K4W4[df_K4W4['gene_ID'].isin(glycolysis_genes)]\n",
    "# print the number of genes found in the K0W0 dataframe\n",
    "print(len(glycolysis_genes), len(glycolysis_K0W0))\n",
    "print(len(glycolysis_genes), len(glycolysis_K2W2))\n",
    "print(len(glycolysis_genes), len(glycolysis_K4W4))\n",
    "# store the genes not found in a list\n",
    "glycolysis_K0W0_notfound = [gene for gene in glycolysis_genes if gene not in glycolysis_K0W0['gene_ID'].tolist()]\n",
    "print(glycolysis_K0W0_notfound)\n",
    "\n",
    "# ADD PGK1 to glycolysis_K0W0, glycolysis_K2W2, glycolysis_K4W4\n",
    "pgk1_K0W0 = []\n",
    "pgk1_K2W2 = []\n",
    "pgk1_K4W4 = []"
   ]
  },
  {
   "cell_type": "markdown",
   "metadata": {},
   "source": [
    "#### Cell-cycle genes search in DEGs"
   ]
  },
  {
   "cell_type": "code",
   "execution_count": 35,
   "metadata": {},
   "outputs": [
    {
     "name": "stdout",
     "output_type": "stream",
     "text": [
      "14 14\n",
      "14 14\n",
      "14 14\n",
      "[]\n"
     ]
    }
   ],
   "source": [
    "# search for cellcycle genes in the K0W0, K2W2 and K4W4 dataframes\n",
    "cellcycle_K0W0 = df_K0W0[df_K0W0['gene_ID'].isin(cellcycle_genes)]\n",
    "cellcycle_K2W2 = df_K2W2[df_K2W2['gene_ID'].isin(cellcycle_genes)]\n",
    "cellcycle_K4W4 = df_K4W4[df_K4W4['gene_ID'].isin(cellcycle_genes)]\n",
    "# print the number of genes found in the K0W0 dataframe\n",
    "print(len(cellcycle_genes), len(cellcycle_K0W0))\n",
    "print(len(cellcycle_genes), len(cellcycle_K2W2))\n",
    "print(len(cellcycle_genes), len(cellcycle_K4W4))\n",
    "# store the genes not found in a list\n",
    "cellcycle_K0W0_notfound = [gene for gene in cellcycle_genes if gene not in cellcycle_K0W0['gene_ID'].tolist()]\n",
    "print(cellcycle_K0W0_notfound)"
   ]
  },
  {
   "cell_type": "markdown",
   "metadata": {},
   "source": [
    "#### Maturation genes search in DEGs"
   ]
  },
  {
   "cell_type": "code",
   "execution_count": 36,
   "metadata": {},
   "outputs": [
    {
     "name": "stdout",
     "output_type": "stream",
     "text": [
      "19 19\n",
      "19 19\n",
      "19 19\n",
      "[]\n"
     ]
    }
   ],
   "source": [
    "# search for maturation genes in the K0W0, K2W2 and K4W4 dataframes\n",
    "maturation_K0W0 = df_K0W0[df_K0W0['gene_ID'].isin(maturation_genes)]\n",
    "maturation_K2W2 = df_K2W2[df_K2W2['gene_ID'].isin(maturation_genes)]\n",
    "maturation_K4W4 = df_K4W4[df_K4W4['gene_ID'].isin(maturation_genes)]\n",
    "# print the number of genes found in the K0W0 dataframe\n",
    "print(len(maturation_genes), len(maturation_K0W0))\n",
    "print(len(maturation_genes), len(maturation_K2W2))\n",
    "print(len(maturation_genes), len(maturation_K4W4))\n",
    "# store the genes not found in a list\n",
    "maturation_K0W0_notfound = [gene for gene in maturation_genes if gene not in maturation_K0W0['gene_ID'].tolist()]\n",
    "print(maturation_K0W0_notfound)"
   ]
  },
  {
   "cell_type": "markdown",
   "metadata": {},
   "source": [
    "#### Ion channel proteins"
   ]
  },
  {
   "cell_type": "code",
   "execution_count": 9,
   "metadata": {},
   "outputs": [
    {
     "name": "stdout",
     "output_type": "stream",
     "text": [
      "20 20\n",
      "[]\n"
     ]
    }
   ],
   "source": [
    "# search for channel genes in the K0W0, K2W2 and K4W4 dataframes\n",
    "channel_K0W0 = df_K0W0[df_K0W0['gene_ID'].isin(channel_genes)]\n",
    "channel_K2W2 = df_K2W2[df_K2W2['gene_ID'].isin(channel_genes)]\n",
    "channel_K4W4 = df_K4W4[df_K4W4['gene_ID'].isin(channel_genes)]\n",
    "# print the number of genes found in the K0W0 dataframe\n",
    "print(len(channel_genes), len(channel_K0W0))\n",
    "# store the genes not found in a list\n",
    "channel_K0W0_notfound = [gene for gene in channel_genes if gene not in channel_K0W0['gene_ID'].tolist()]\n",
    "print(channel_K0W0_notfound)"
   ]
  },
  {
   "cell_type": "markdown",
   "metadata": {},
   "source": [
    "#### Pantetheine genes"
   ]
  },
  {
   "cell_type": "code",
   "execution_count": 31,
   "metadata": {},
   "outputs": [
    {
     "name": "stdout",
     "output_type": "stream",
     "text": [
      "               Unnamed: 0     logFC    logCPM          F    PValue  \\\n",
      "5705   ENSG00000125779.24  0.516794  4.865834  19.533911  0.000034   \n",
      "7171    ENSG00000135929.9  0.366550  3.568871   5.652936  0.020064   \n",
      "5008    ENSG00000120137.7  0.192752  7.219531   5.511418  0.021624   \n",
      "7590   ENSG00000138074.15  0.241819  5.362580   4.884847  0.030249   \n",
      "9572   ENSG00000152782.19 -0.255116  4.427610   4.240192  0.043069   \n",
      "7683   ENSG00000138621.12  0.475890  1.998273   3.744824  0.056871   \n",
      "5886    ENSG00000127125.9 -0.179369  4.805022   2.077729  0.153767   \n",
      "62696   ENSG00000293493.1 -1.806233 -3.211077   1.410887  0.238987   \n",
      "3551   ENSG00000108576.10  0.721968 -0.545109   0.775984  0.381248   \n",
      "4039    ENSG00000112299.8  0.135524 -2.350803   0.009414  0.922956   \n",
      "4040   ENSG00000112303.14 -0.030451 -1.111949   0.001208  0.972367   \n",
      "6157    ENSG00000129596.5  0.004499 -1.106196   0.000085  0.992687   \n",
      "1033   ENSG00000068120.15 -0.049344  5.441868   0.229636  0.633236   \n",
      "1996   ENSG00000093134.18  0.000000 -3.222015   0.000000  1.000000   \n",
      "10139  ENSG00000157881.16  0.152596  4.478004   1.468000  0.229594   \n",
      "7845   ENSG00000139631.20 -0.222840  3.396545   1.476063  0.228332   \n",
      "\n",
      "       AdjustedPvalue  gene_ID  \n",
      "5705         0.001050    PANK2  \n",
      "7171         0.218808  CYP27A1  \n",
      "5008         0.231909    PANK3  \n",
      "7590         0.298875   SLC5A6  \n",
      "9572         0.384762    PANK1  \n",
      "7683         0.468444    PPCDC  \n",
      "5886         0.877793     PPCS  \n",
      "62696        1.000000    VNN3P  \n",
      "3551         1.000000   SLC6A4  \n",
      "4039         1.000000     VNN1  \n",
      "4040         1.000000     VNN2  \n",
      "6157         1.000000     CDO1  \n",
      "1033         1.000000    COASY  \n",
      "1996         1.000000    VNN3P  \n",
      "10139        1.000000    PANK4  \n",
      "7845         1.000000     CSAD  \n"
     ]
    }
   ],
   "source": [
    "# search for vitamin B5 genes in the K0W0, K2W2 and K4W4 dataframes\n",
    "pantetheine_K0W0 = df_K0W0[df_K0W0['gene_ID'].isin(pantetheine_genes)]\n",
    "pantetheine_K2W2 = df_K2W2[df_K2W2['gene_ID'].isin(pantetheine_genes)]\n",
    "pantetheine_K4W4 = df_K4W4[df_K4W4['gene_ID'].isin(pantetheine_genes)]\n",
    "# print the number of genes found in the K0W0 dataframe\n",
    "print(pantetheine_K0W0)"
   ]
  },
  {
   "cell_type": "code",
   "execution_count": 32,
   "metadata": {},
   "outputs": [],
   "source": [
    "#remove from pantetheine_K0W0, pantetheine_K2W2, pantetheine_K4W4  the VNN3P entry for whihc the ensemble transcript id is: ENSG00000293493.1\n",
    "pantetheine_K0W0 = pantetheine_K0W0[pantetheine_K0W0['Unnamed: 0'] != 'ENSG00000093134.18']\n",
    "pantetheine_K2W2 = pantetheine_K2W2[pantetheine_K2W2['Unnamed: 0'] != 'ENSG00000093134.18']\n",
    "pantetheine_K4W4 = pantetheine_K4W4[pantetheine_K4W4['Unnamed: 0'] != 'ENSG00000093134.18']"
   ]
  },
  {
   "cell_type": "code",
   "execution_count": 33,
   "metadata": {},
   "outputs": [
    {
     "name": "stdout",
     "output_type": "stream",
     "text": [
      "15 15\n",
      "[]\n"
     ]
    }
   ],
   "source": [
    "# store the genes not found in a list\n",
    "print(len(pantetheine_genes), len(pantetheine_K0W0))\n",
    "b5_K0W0_notfound = [gene for gene in pantetheine_genes if gene not in pantetheine_K0W0['gene_ID'].tolist()]\n",
    "print(b5_K0W0_notfound)"
   ]
  },
  {
   "cell_type": "markdown",
   "metadata": {},
   "source": [
    "#### Plot longitudinal heatmaps"
   ]
  },
  {
   "cell_type": "code",
   "execution_count": 34,
   "metadata": {},
   "outputs": [],
   "source": [
    "# Function to prepare the data with upregulated and downregulated columns\n",
    "def prepare_data(df, timepoint):\n",
    "    df['upregulated'] = df['logFC'].apply(lambda x: x if x > 0 else 0)\n",
    "    df['downregulated'] = df['logFC'].apply(lambda x: x if x < 0 else 0)\n",
    "    df['upregulated_pvalue'] = df.apply(lambda row: row['AdjustedPvalue'] if row['logFC'] > 0 else np.nan, axis=1)\n",
    "    df['downregulated_pvalue'] = df.apply(lambda row: row['AdjustedPvalue'] if row['logFC'] < 0 else np.nan, axis=1)\n",
    "    df_up = df[['gene_ID', 'upregulated', 'upregulated_pvalue']].rename(columns={'upregulated': f'{timepoint}_up', 'upregulated_pvalue': f'{timepoint}_up_pvalue'})\n",
    "    df_down = df[['gene_ID', 'downregulated', 'downregulated_pvalue']].rename(columns={'downregulated': f'{timepoint}_down', 'downregulated_pvalue': f'{timepoint}_down_pvalue'})\n",
    "    return df_up, df_down"
   ]
  },
  {
   "cell_type": "code",
   "execution_count": 36,
   "metadata": {},
   "outputs": [],
   "source": [
    "# Prepare data for each timepoint\n",
    "k0w0_up, k0w0_down = prepare_data(pantetheine_K0W0, 'K0W0')\n",
    "k2w2_up, k2w2_down = prepare_data(pantetheine_K2W2, 'K2W2')\n",
    "k4w4_up, k4w4_down = prepare_data(pantetheine_K4W4, 'K4W4')\n",
    "\n",
    "# Merge data into a single DataFrame for fold change\n",
    "merged_df = pd.merge(k0w0_up[['gene_ID', 'K0W0_up']], k0w0_down[['gene_ID', 'K0W0_down']], on='gene_ID')\n",
    "merged_df = pd.merge(merged_df, k2w2_up[['gene_ID', 'K2W2_up']], on='gene_ID')\n",
    "merged_df = pd.merge(merged_df, k2w2_down[['gene_ID', 'K2W2_down']], on='gene_ID')\n",
    "merged_df = pd.merge(merged_df, k4w4_up[['gene_ID', 'K4W4_up']], on='gene_ID')\n",
    "merged_df = pd.merge(merged_df, k4w4_down[['gene_ID', 'K4W4_down']], on='gene_ID')\n",
    "\n",
    "# Set gene_ID as the index\n",
    "merged_df.set_index('gene_ID', inplace=True)\n",
    "\n",
    "# Merge data into a single DataFrame for p-values\n",
    "merged_df_p = pd.merge(k0w0_up[['gene_ID', 'K0W0_up_pvalue']], k0w0_down[['gene_ID', 'K0W0_down_pvalue']], on='gene_ID')\n",
    "merged_df_p = pd.merge(merged_df_p, k2w2_up[['gene_ID', 'K2W2_up_pvalue']], on='gene_ID')\n",
    "merged_df_p = pd.merge(merged_df_p, k2w2_down[['gene_ID', 'K2W2_down_pvalue']], on='gene_ID')\n",
    "merged_df_p = pd.merge(merged_df_p, k4w4_up[['gene_ID', 'K4W4_up_pvalue']], on='gene_ID')\n",
    "merged_df_p = pd.merge(merged_df_p, k4w4_down[['gene_ID', 'K4W4_down_pvalue']], on='gene_ID')\n",
    "\n",
    "# Set gene_ID as the index\n",
    "merged_df_p.set_index('gene_ID', inplace=True)\n",
    "\n",
    "# Find significant points\n",
    "significant_points = np.where(merged_df_p.values < 0.05)"
   ]
  },
  {
   "cell_type": "code",
   "execution_count": 37,
   "metadata": {},
   "outputs": [
    {
     "data": {
      "image/png": "[encoded data removed]",
      "text/plain": [
       "<Figure size 2000x800 with 4 Axes>"
      ]
     },
     "metadata": {},
     "output_type": "display_data"
    }
   ],
   "source": [
    "\n",
    "################################################### Plotting code ###################################################\n",
    "# Define the new labels for the x-axis\n",
    "new_labels = ['Up_KO', 'Down_KO', 'Up_KO', 'Down_KO', 'Up_KO', 'Down_KO']\n",
    "# Define the positions for the week labels\n",
    "week_labels_positions = [(0.1, 2.1, 'Day 0'), (2.1, 4.1, 'Week 2'), (4.1, 6.1, 'Week 4')]\n",
    "\n",
    "# Create a custom colormap for fold change values\n",
    "colors_list = ['orange', 'white', 'blue']\n",
    "n_bins = 100  # Discretizes the interpolation into bins\n",
    "cmap_name = 'custom_blue_orange'\n",
    "custom_cmap = mpl.colors.LinearSegmentedColormap.from_list(cmap_name, colors_list, N=n_bins)\n",
    "\n",
    "# Create a custom colormap for p-values\n",
    "colors_list_p = ['lightgreen', 'white', 'red']\n",
    "cmap_name_p = 'custom_red_green'\n",
    "custom_cmap_p = mpl.colors.LinearSegmentedColormap.from_list(cmap_name_p, colors_list_p, N=n_bins)\n",
    "\n",
    "# Plot the heatmaps\n",
    "fig, axes = plt.subplots(nrows=1, ncols=2, figsize=(20, 8))\n",
    "\n",
    "# Fold change heatmap\n",
    "ax1 = sns.heatmap(merged_df, cmap=custom_cmap, center=0, cbar_kws={'label': 'log(Fold Change)'}, ax=axes[0])\n",
    "ax1.set_xlabel('Pantetheine Pathway', fontsize=14)\n",
    "ax1.xaxis.tick_top()\n",
    "ax1.set_ylabel('')\n",
    "ax1.set_yticklabels(ax1.get_yticklabels(), rotation=0)\n",
    "ax1.set_xticklabels(new_labels)\n",
    "\n",
    "# P-value heatmap\n",
    "ax2 = sns.heatmap(merged_df_p, cmap=custom_cmap_p, center=0, cbar_kws={'label': 'Adjusted p-value'}, ax=axes[1])\n",
    "ax2.set_xlabel('Significance', fontsize=14)\n",
    "ax2.xaxis.tick_top()\n",
    "ax2.set_ylabel('')\n",
    "ax2.set_yticklabels(ax2.get_yticklabels(), rotation=0)\n",
    "ax2.set_xticklabels(new_labels)\n",
    "\n",
    "# Add rectangular, spaced, and very thin colored bars at the top\n",
    "bar_y_position = ax1.get_position().y1 + 0.05\n",
    "label_y_position = bar_y_position + 0.05\n",
    "bar_height = 0.02\n",
    "number_of_columns_in_heatmap = 6\n",
    "\n",
    "# Get colors from the tab20c colormap for the bars\n",
    "colors_for_bars = [plt.get_cmap('tab20b')(i) for i in range(0,4)]\n",
    "colors_for_bars.reverse()\n",
    "\n",
    "# Add bars\n",
    "for idx, (start, end) in enumerate([(0, 2), (2, 4), (4, 6)]):\n",
    "    fig.patches.extend([mpl.patches.Rectangle(\n",
    "        (axes[0].get_position().x0 + start / number_of_columns_in_heatmap * (axes[0].get_position().width), bar_y_position),\n",
    "        (end-start) / number_of_columns_in_heatmap * (axes[0].get_position().width), bar_height,\n",
    "        linewidth=1, edgecolor=None, facecolor=colors_for_bars[idx], transform=fig.transFigure, clip_on=False\n",
    "    )])\n",
    "    fig.patches.extend([mpl.patches.Rectangle(\n",
    "        (axes[1].get_position().x0 + start / number_of_columns_in_heatmap * (axes[1].get_position().width), bar_y_position),\n",
    "        (end-start) / number_of_columns_in_heatmap * (axes[1].get_position().width), bar_height,\n",
    "        linewidth=1, edgecolor=None, facecolor=colors_for_bars[idx], transform=fig.transFigure, clip_on=False\n",
    "    )])\n",
    "\n",
    "# Add week labels on top for both heatmaps\n",
    "for start, end, label in week_labels_positions:\n",
    "    fig.text(\n",
    "        (axes[0].get_position().x0 + axes[0].get_position().width * (start + end) / 2 / number_of_columns_in_heatmap), \n",
    "        label_y_position, label, ha='center', va='bottom', fontsize=12, transform=fig.transFigure\n",
    "    )\n",
    "    fig.text(\n",
    "        (axes[1].get_position().x0 + axes[1].get_position().width * (start + end) / 2 / number_of_columns_in_heatmap), \n",
    "        label_y_position, label, ha='center', va='bottom', fontsize=12, transform=fig.transFigure\n",
    "    )\n",
    "\n",
    "# Adjust x-axis label position below the heatmap\n",
    "ax1.xaxis.set_label_coords(0.5, -0.1, transform=ax1.transAxes)\n",
    "ax2.xaxis.set_label_coords(0.5, -0.1, transform=ax2.transAxes)\n",
    "\n",
    "# Plot stars for significant points\n",
    "for y, x in zip(*significant_points):\n",
    "    ax2.scatter(x + 0.5, y + 0.5, marker='*', color='green', s=150, zorder = 5)\n",
    "# Create a custom legend for the star markers\n",
    "star_patch = mpl.lines.Line2D([0], [0], marker='*', color='w', label='Adjusted p-value < 0.05', markerfacecolor='green', markersize=15)\n",
    "# Add the legend to the significance plot\n",
    "ax2.legend(handles=[star_patch], loc='lower right', fontsize=12, bbox_to_anchor=(1.0, -0.06), borderaxespad=0.)\n",
    "\n",
    "plt.show()"
   ]
  },
  {
   "cell_type": "markdown",
   "metadata": {},
   "source": [
    "## Separate Up and Down regulation (and get top 100)"
   ]
  },
  {
   "cell_type": "code",
   "execution_count": 12,
   "metadata": {},
   "outputs": [],
   "source": [
    "# write a function to separate the upregulated and downregulated genes\n",
    "def separate_genes(df):\n",
    "    upregulated = df[df['logFC'] > 1]\n",
    "    downregulated = df[df['logFC'] < -1]\n",
    "    return upregulated, downregulated"
   ]
  },
  {
   "cell_type": "code",
   "execution_count": 13,
   "metadata": {},
   "outputs": [],
   "source": [
    "# get the upregulated and downregulated genes for each timepoint pick top 100 based on the sorted adjusted p-values)\n",
    "k0w0_upregulated, k0w0_downregulated = separate_genes(df_K0W0)\n",
    "k2w2_upregulated, k2w2_downregulated = separate_genes(df_K2W2)\n",
    "k4w4_upregulated, k4w4_downregulated = separate_genes(df_K4W4)"
   ]
  },
  {
   "cell_type": "code",
   "execution_count": 14,
   "metadata": {},
   "outputs": [],
   "source": [
    "# get the top 100 upregulated and downregulated genes for each timepoint\n",
    "top_100_k0w0_upregulated = k0w0_upregulated.head(100)\n",
    "top_100_k0w0_downregulated = k0w0_downregulated.head(100)\n",
    "top_100_k2w2_upregulated = k2w2_upregulated.head(100)\n",
    "top_100_k2w2_downregulated = k2w2_downregulated.head(100)\n",
    "top_100_k4w4_upregulated = k4w4_upregulated.head(100)\n",
    "top_100_k4w4_downregulated = k4w4_downregulated.head(100)\n"
   ]
  },
  {
   "cell_type": "code",
   "execution_count": 17,
   "metadata": {},
   "outputs": [],
   "source": [
    "# save as csvs\n",
    "top_100_k0w0_upregulated.to_csv('top_100_k0w0_upregulated.csv', index=False)\n",
    "top_100_k0w0_downregulated.to_csv('top_100_k0w0_downregulated.csv', index=False)\n",
    "top_100_k2w2_upregulated.to_csv('top_100_k2w2_upregulated.csv', index=False)\n",
    "top_100_k2w2_downregulated.to_csv('top_100_k2w2_downregulated.csv', index=False)\n",
    "top_100_k4w4_upregulated.to_csv('top_100_k4w4_upregulated.csv', index=False)\n",
    "top_100_k4w4_downregulated.to_csv('top_100_k4w4_downregulated.csv', index=False)"
   ]
  },
  {
   "cell_type": "markdown",
   "metadata": {},
   "source": [
    "## Get common DEGs between W2 and W4"
   ]
  },
  {
   "cell_type": "code",
   "execution_count": 15,
   "metadata": {},
   "outputs": [],
   "source": [
    "# write a function to merge the dfs at W2 and W4 at the common gene_IDs\n",
    "def merge_dfs(df1, df2):\n",
    "    merged_df = pd.merge(df1, df2, on='gene_ID', how='inner')\n",
    "    return merged_df"
   ]
  },
  {
   "cell_type": "code",
   "execution_count": 36,
   "metadata": {},
   "outputs": [],
   "source": [
    "# get the common DEGs between K2W2 and K4W4 (upregulated and downregulated)\n",
    "common_w2_w4_upregulated = merge_dfs(k2w2_upregulated, k4w4_upregulated)\n",
    "common_w2_w4_downregulated = merge_dfs(k2w2_downregulated, k4w4_downregulated)\n",
    "common_w2_w4_all = merge_dfs(df_K2W2, df_K4W4) #has no fold chnage criteria, only significance criteria for foldchange values\n",
    "#remove the rows where the adjusted p-value is greater than 0.05 for both W2 and W4\n",
    "common_w2_w4_upregulated = common_w2_w4_upregulated[(common_w2_w4_upregulated['AdjustedPvalue_x'] < 0.01) & (common_w2_w4_upregulated['AdjustedPvalue_y'] < 0.01)]\n",
    "common_w2_w4_downregulated = common_w2_w4_downregulated[(common_w2_w4_downregulated['AdjustedPvalue_x'] < 0.01) & (common_w2_w4_downregulated['AdjustedPvalue_y'] < 0.01)]\n",
    "common_w2_w4_all = common_w2_w4_all[(common_w2_w4_all['AdjustedPvalue_x'] < 0.01) & (common_w2_w4_all['AdjustedPvalue_y'] < 0.01)]"
   ]
  },
  {
   "cell_type": "code",
   "execution_count": 38,
   "metadata": {},
   "outputs": [
    {
     "data": {
      "text/plain": [
       "(186, 223, 1232)"
      ]
     },
     "execution_count": 38,
     "metadata": {},
     "output_type": "execute_result"
    }
   ],
   "source": [
    "len(common_w2_w4_upregulated), len(common_w2_w4_downregulated), len(common_w2_w4_all)"
   ]
  }
 ],
 "metadata": {
  "kernelspec": {
   "display_name": "hubs",
   "language": "python",
   "name": "python3"
  },
  "language_info": {
   "codemirror_mode": {
    "name": "ipython",
    "version": 3
   },
   "file_extension": ".py",
   "mimetype": "text/x-python",
   "name": "python",
   "nbconvert_exporter": "python",
   "pygments_lexer": "ipython3",
   "version": "3.8.19"
  }
 },
 "nbformat": 4,
 "nbformat_minor": 2
}
